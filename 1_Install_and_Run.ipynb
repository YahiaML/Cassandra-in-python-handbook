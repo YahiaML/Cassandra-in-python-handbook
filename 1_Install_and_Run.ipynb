{
  "nbformat": 4,
  "nbformat_minor": 0,
  "metadata": {
    "colab": {
      "provenance": [],
      "authorship_tag": "ABX9TyOCCFi878qutJyQ+lEnMkg4",
      "include_colab_link": true
    },
    "kernelspec": {
      "name": "python3",
      "display_name": "Python 3"
    },
    "language_info": {
      "name": "python"
    }
  },
  "cells": [
    {
      "cell_type": "markdown",
      "metadata": {
        "id": "view-in-github",
        "colab_type": "text"
      },
      "source": [
        "<a href=\"https://colab.research.google.com/github/YahiaML/Cassandra-in-python-handbook/blob/main/1_Install_and_Run.ipynb\" target=\"_parent\"><img src=\"https://colab.research.google.com/assets/colab-badge.svg\" alt=\"Open In Colab\"/></a>"
      ]
    },
    {
      "cell_type": "markdown",
      "source": [
        "# Installing Cassandra Steps.\n",
        "\n",
        "\n",
        "---\n",
        "\n",
        "\n",
        "\n",
        "### Download and Extract Apache Cassandra\n",
        "1. Download cassandra (version 3.11.17) from https://cassandra.apache.org/_/download.html\n",
        "\n",
        "\n",
        "> Note: Any version newer than 3.11.17 will not work on windows, so please make sure to download the mentioned version.\n",
        "\n",
        "2. Use a tool like 7-Zip to extract the tar.gz file.\n",
        "\n",
        "3. Extract the contents of the tar file to a directory of your choice (e.g. 'C:\\apache-cassandra-3.11.17')\n",
        "\n",
        "4. Follow the steps mentioned here https://www.youtube.com/watch?v=EEXtVn3zAqc&t=182s @5:34 to add pathes to the Environment Variables\n",
        "\n",
        "\n",
        "---\n",
        "\n",
        "\n",
        "### Install and Set Up Java\n",
        "1. Download Java (version jdk-8u202) from  https://www.oracle.com/eg/java/technologies/javase/javase8-archive-downloads.html\n",
        "\n",
        "> Note: Any version newer than jdk-8u202 will not be compatible with cassandra.\n",
        "\n",
        "2. Install it.\n",
        "\n",
        "3. Follow the steps mentioned here https://www.youtube.com/watch?v=EEXtVn3zAqc&t=182s @2:12 to add pathes to the Environment Variables\n",
        "\n",
        "\n",
        "\n",
        "\n",
        "---\n",
        "\n",
        "# Initiate Cassandra\n",
        "1. Open the bin folder that is found in Cassandra extracted folders (e.g. D:\\Apps\\apache-cassandra-3.11.17-bin\\apache-cassandra-3.11.17\\bin)\n",
        "\n",
        "2. Alt+F ==> Open In Terminal\n",
        "3. Run this command: cassandra.bat\n"
      ],
      "metadata": {
        "id": "d9cDC3rOV--8"
      }
    },
    {
      "cell_type": "code",
      "execution_count": null,
      "metadata": {
        "id": "FZz_-x0_VyJH"
      },
      "outputs": [],
      "source": [
        "#!pip install cassandra-driver\n",
        "import cassandra"
      ]
    },
    {
      "cell_type": "code",
      "source": [
        "from cassandra.cluster import Cluster\n",
        "try:\n",
        "    cluster = Cluster(['127.0.0.1']) #If you have a locally installed Apache Cassandra instance\n",
        "    session = cluster.connect()\n",
        "except Exception as e:\n",
        "    print(e)\n"
      ],
      "metadata": {
        "id": "EuWQ9BThsZPc"
      },
      "execution_count": null,
      "outputs": []
    },
    {
      "cell_type": "code",
      "source": [
        "try:\n",
        "    session.execute(\"\"\"\n",
        "    CREATE KEYSPACE IF NOT EXISTS udacity\n",
        "    WITH REPLICATION =\n",
        "    { 'class' : 'SimpleStrategy', 'replication_factor' : 1 }\"\"\"\n",
        ")\n",
        "\n",
        "except Exception as e:\n",
        "    print(e)\n",
        "\n",
        "try:\n",
        "    session.set_keyspace('udacity')  # <== Must be in lower case\n",
        "except Exception as e:\n",
        "    print(e)"
      ],
      "metadata": {
        "id": "KB6OxJkZsnIY"
      },
      "execution_count": null,
      "outputs": []
    },
    {
      "cell_type": "code",
      "source": [
        "query = \"CREATE TABLE IF NOT EXISTS songs \"\n",
        "query = query + \"(year int, song_title text, artist_name text, album_name text, single boolean, PRIMARY KEY (year, artist_name))\"\n",
        "try:\n",
        "    session.execute(query)\n",
        "except Exception as e:\n",
        "    print(e)\n"
      ],
      "metadata": {
        "id": "oqiYFBWxspAt"
      },
      "execution_count": null,
      "outputs": []
    },
    {
      "cell_type": "code",
      "source": [
        "query = \"INSERT INTO songs (year, song_title, artist_name, album_name, single)\"\n",
        "query = query + \" VALUES (%s, %s, %s, %s, %s)\"\n",
        "\n",
        "try:\n",
        "    session.execute(query, (1970, \"Across The Universe\", \"The Beatles\", \"Let It Be\", False))\n",
        "except Exception as e:\n",
        "    print(e)\n",
        "\n",
        "try:\n",
        "    session.execute(query, (1965, \"Think For Yourself\", \"The Beatles\", \"Rubber Soul\", False))\n",
        "except Exception as e:\n",
        "    print(e)"
      ],
      "metadata": {
        "id": "XhGu-3Kit-H1"
      },
      "execution_count": null,
      "outputs": []
    },
    {
      "cell_type": "code",
      "source": [
        "query = 'SELECT * FROM songs'\n",
        "try:\n",
        "    rows = session.execute(query)\n",
        "except Exception as e:\n",
        "    print(e)\n",
        "\n",
        "for row in rows:\n",
        "    print (row.year, row.album_name, row.artist_name)"
      ],
      "metadata": {
        "id": "Z_IdeMJat-0B"
      },
      "execution_count": null,
      "outputs": []
    },
    {
      "cell_type": "code",
      "source": [
        "query = \"select * from songs WHERE YEAR=1970 AND artist_name='The Beatles'\"\n",
        "try:\n",
        "    rows = session.execute(query)\n",
        "except Exception as e:\n",
        "    print(e)\n",
        "\n",
        "for row in rows:\n",
        "    print (row.year, row.album_name, row.artist_name)"
      ],
      "metadata": {
        "id": "TuYgoK3BuCt9"
      },
      "execution_count": null,
      "outputs": []
    },
    {
      "cell_type": "code",
      "source": [
        "session.shutdown()\n",
        "cluster.shutdown()"
      ],
      "metadata": {
        "id": "w4G8316ZuEa8"
      },
      "execution_count": null,
      "outputs": []
    }
  ]
}